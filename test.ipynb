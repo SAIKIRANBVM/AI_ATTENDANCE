{
 "cells": [
  {
   "cell_type": "code",
   "execution_count": 2,
   "id": "2c435b2e",
   "metadata": {},
   "outputs": [],
   "source": [
    "import pandas as pd\n",
    "\n",
    "from pydantic import BaseModel\n",
    "from typing import List, Optional\n",
    "\n",
    "from backend.classes.AttendanceValues import AttendanceValues\n",
    "from backend.classes.StudentMetrics import StudentMetrics\n",
    "from backend.classes.StudentTrend import StudentTrend"
   ]
  },
  {
   "cell_type": "code",
   "execution_count": null,
   "id": "04eda49a",
   "metadata": {},
   "outputs": [],
   "source": [
    "df = pd.read_parquet('backend/data/Alerts.parquet')"
   ]
  },
  {
   "cell_type": "code",
   "execution_count": null,
   "id": "6147d58b",
   "metadata": {},
   "outputs": [
    {
     "ename": "NameError",
     "evalue": "name 'pd' is not defined",
     "output_type": "error",
     "traceback": [
      "\u001b[1;31m---------------------------------------------------------------------------\u001b[0m",
      "\u001b[1;31mNameError\u001b[0m                                 Traceback (most recent call last)",
      "Cell \u001b[1;32mIn[1], line 1\u001b[0m\n\u001b[1;32m----> 1\u001b[0m df \u001b[38;5;241m=\u001b[39m pd\u001b[38;5;241m.\u001b[39mread_parquet(\u001b[38;5;124m'\u001b[39m\u001b[38;5;124mbackend/data/Alerts.parquet\u001b[39m\u001b[38;5;124m'\u001b[39m)\n",
      "\u001b[1;31mNameError\u001b[0m: name 'pd' is not defined"
     ]
    }
   ],
   "source": []
  },
  {
   "cell_type": "code",
   "execution_count": 3,
   "id": "670a6337",
   "metadata": {},
   "outputs": [],
   "source": [
    "class DataResponse(BaseModel):\n",
    "    previousAttendance: float | None\n",
    "    predictedAttendance: float\n",
    "    predictedValues: AttendanceValues\n",
    "    chronicAbsenceRate: float\n",
    "    metrics: List[StudentMetrics]\n",
    "    trends: List[StudentTrend]"
   ]
  },
  {
   "cell_type": "code",
   "execution_count": 5,
   "id": "27f7bc41",
   "metadata": {},
   "outputs": [],
   "source": [
    "def _subset_pairs(data: pd.DataFrame):\n",
    "    cur, pred = 2024, 2025\n",
    "    hist = data[data[\"SCHOOL_YEAR\"] <= cur]\n",
    "    pr   = data[data[\"SCHOOL_YEAR\"] == pred]\n",
    "    return hist, pr"
   ]
  },
  {
   "cell_type": "code",
   "execution_count": 32,
   "id": "dbb83bd9",
   "metadata": {},
   "outputs": [],
   "source": [
    "PRESENT_COL  = \"Total_Days_Present\"\n",
    "ENROLLED_COL  = \"Total_Days_Enrolled\"\n",
    "UNEXCUSED_COL = \"Total_Days_Unexcused_Absent\"\n",
    "PRED_COL = \"Predictions\"\n",
    "PRED_DIST_COL = \"Predictions_District\"\n",
    "PRED_SCH_COL  = \"Predictions_School\"\n",
    "PRED_GRD_COL  = \"Predictions_Grade\"\n",
    "\n",
    "def get_all_districts_summary():\n",
    "    hist, pred = _subset_pairs(df)\n",
    "    cur_year = 2024\n",
    "    cur_rows = hist[hist[\"SCHOOL_YEAR\"] == cur_year]\n",
    "\n",
    "    present_tot  = cur_rows['Total_Days_Present'].astype(float).sum()\n",
    "    enrolled_tot = cur_rows['Total_Days_Enrolled'].astype(float).sum()\n",
    "    prev_att = round((present_tot / enrolled_tot) * 100, 1) if enrolled_tot > 0 else 0\n",
    "    total_days = round(enrolled_tot / len(cur_rows), 1)\n",
    "    preds = pred[PRED_DIST_COL].dropna()\n",
    "    pred_att = round(preds.mean() * 100, 1) if not preds.empty else 0\n",
    "    chronic_absence_rate = round(((preds[preds < 0.85].shape[0]) / cur_rows.shape[0]) * 100, 2)\n",
    "    \n",
    "\n",
    "    return_vals = {\n",
    "        'previousAttendance': prev_att,\n",
    "        'predictedAttendance': pred_att,\n",
    "        'chronicAbsenceRate': chronic_absence_rate\n",
    "    }\n",
    "\n",
    "    return return_vals"
   ]
  },
  {
   "cell_type": "code",
   "execution_count": 33,
   "id": "77055c26",
   "metadata": {},
   "outputs": [
    {
     "data": {
      "text/plain": [
       "{'previousAttendance': np.float64(90.1),\n",
       " 'predictedAttendance': np.float64(89.0),\n",
       " 'chronicAbsenceRate': 4.12}"
      ]
     },
     "execution_count": 33,
     "metadata": {},
     "output_type": "execute_result"
    }
   ],
   "source": [
    "get_all_districts_summary()"
   ]
  },
  {
   "cell_type": "code",
   "execution_count": null,
   "id": "fdc45979",
   "metadata": {},
   "outputs": [],
   "source": []
  }
 ],
 "metadata": {
  "kernelspec": {
   "display_name": "base",
   "language": "python",
   "name": "python3"
  },
  "language_info": {
   "codemirror_mode": {
    "name": "ipython",
    "version": 3
   },
   "file_extension": ".py",
   "mimetype": "text/x-python",
   "name": "python",
   "nbconvert_exporter": "python",
   "pygments_lexer": "ipython3",
   "version": "3.12.7"
  }
 },
 "nbformat": 4,
 "nbformat_minor": 5
}
